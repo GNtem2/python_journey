{
 "cells": [
  {
   "cell_type": "code",
   "execution_count": null,
   "metadata": {},
   "outputs": [],
   "source": [
    "import folium\n",
    "import geopandas as gpd\n",
    "import matplotlib.pyplot as plt\n",
    "import osmnx as ox\n",
    "import pandas as pd\n",
    "ox.config(use_cache=True)\n"
   ]
  },
  {
   "cell_type": "code",
   "execution_count": null,
   "metadata": {},
   "outputs": [],
   "source": [
    "#Copenhagen\n",
    "ox.plot_graph(ox.graph_from_place('Cophenhagen, Denmark'))"
   ]
  }
 ],
 "metadata": {
  "kernelspec": {
   "display_name": "Python (GEO)",
   "language": "python",
   "name": "geo"
  }
 },
 "nbformat": 4,
 "nbformat_minor": 2
}
